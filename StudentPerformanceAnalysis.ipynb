{
  "nbformat": 4,
  "nbformat_minor": 0,
  "metadata": {
    "colab": {
      "private_outputs": true,
      "provenance": [],
      "authorship_tag": "ABX9TyOdfyBQq+vBbvaldzXTN5A9",
      "include_colab_link": true
    },
    "kernelspec": {
      "name": "python3",
      "display_name": "Python 3"
    },
    "language_info": {
      "name": "python"
    }
  },
  "cells": [
    {
      "cell_type": "markdown",
      "metadata": {
        "id": "view-in-github",
        "colab_type": "text"
      },
      "source": [
        "<a href=\"https://colab.research.google.com/github/DxAditya7881/Assignment-1/blob/main/StudentPerformanceAnalysis.ipynb\" target=\"_parent\"><img src=\"https://colab.research.google.com/assets/colab-badge.svg\" alt=\"Open In Colab\"/></a>"
      ]
    },
    {
      "cell_type": "code",
      "execution_count": null,
      "metadata": {
        "id": "yGGgyRo5koP5"
      },
      "outputs": [],
      "source": [
        "import pandas as pd\n",
        "import numpy as np\n",
        "import matplotlib.pyplot as plt\n",
        "import seaborn as sns"
      ]
    },
    {
      "cell_type": "code",
      "source": [
        "df = pd.read_csv('study_performance.csv')"
      ],
      "metadata": {
        "id": "75qdpQiHUfr_"
      },
      "execution_count": null,
      "outputs": []
    },
    {
      "cell_type": "code",
      "source": [
        "df.head()"
      ],
      "metadata": {
        "id": "xP2IBbNkU3L5"
      },
      "execution_count": null,
      "outputs": []
    },
    {
      "cell_type": "code",
      "source": [
        "df.info()"
      ],
      "metadata": {
        "id": "D3gL_BxLVKLH"
      },
      "execution_count": null,
      "outputs": []
    },
    {
      "cell_type": "code",
      "source": [
        "df.describe()"
      ],
      "metadata": {
        "id": "lvad-IijVUyU"
      },
      "execution_count": null,
      "outputs": []
    },
    {
      "cell_type": "code",
      "source": [
        "df.isnull().sum()"
      ],
      "metadata": {
        "id": "d2ugh9sMVxFQ"
      },
      "execution_count": null,
      "outputs": []
    },
    {
      "cell_type": "code",
      "source": [
        "df['math_score'].isnull().sum()\n",
        "df['reading_score'].isnull().sum()\n",
        "df['writing_score'].isnull().sum()"
      ],
      "metadata": {
        "id": "5Wjrt4M5YRgh"
      },
      "execution_count": null,
      "outputs": []
    },
    {
      "cell_type": "markdown",
      "source": [
        "**GENDER DISTRIBUTION**\n"
      ],
      "metadata": {
        "id": "VYTRctf1dBgj"
      }
    },
    {
      "cell_type": "code",
      "source": [
        "ax = sns.countplot(data = df, x = \"gender\")\n",
        "ax.bar_label(ax.containers[0])      #for exact value insert container label\n",
        "plt.show\n",
        "plt.figure(figsize= (5,3))          #For height & size"
      ],
      "metadata": {
        "id": "nWf4F901dJDM"
      },
      "execution_count": null,
      "outputs": []
    },
    {
      "cell_type": "code",
      "source": [
        "# from the above data we recognize that numbers of female is more than male"
      ],
      "metadata": {
        "id": "xkGFCS91egVX"
      },
      "execution_count": null,
      "outputs": []
    },
    {
      "cell_type": "code",
      "source": [
        "df.head(5)"
      ],
      "metadata": {
        "id": "V7oe2E_Dge20"
      },
      "execution_count": null,
      "outputs": []
    },
    {
      "cell_type": "markdown",
      "source": [
        "\n",
        "---** Analysis of different Scores on The basis of Parental_level_of_Education**\n",
        "\n"
      ],
      "metadata": {
        "id": "Eh7mkKAbhAFR"
      }
    },
    {
      "cell_type": "code",
      "source": [
        "# by intro groupby method\n",
        "\n",
        "data = df.groupby(\"parental_level_of_education\").agg({\"math_score\": 'mean', \"reading_score\": 'mean', \"writing_score\": 'mean'})"
      ],
      "metadata": {
        "id": "p7VJj2OuhQt6"
      },
      "execution_count": null,
      "outputs": []
    },
    {
      "cell_type": "code",
      "source": [
        "data"
      ],
      "metadata": {
        "id": "AA5DM8jJiTyS"
      },
      "execution_count": null,
      "outputs": []
    },
    {
      "cell_type": "code",
      "source": [
        "# Now we can plot this data by using seaborn\n",
        "\n",
        "sns.heatmap(data)          #using HeatMap\n",
        "plt.show()"
      ],
      "metadata": {
        "id": "Mo8k1EA_igL8"
      },
      "execution_count": null,
      "outputs": []
    },
    {
      "cell_type": "code",
      "source": [
        "# if want also to show the values inside of the Heat_Map do this\n",
        "\n",
        "sns.heatmap(data, annot= True)\n",
        "plt.show()"
      ],
      "metadata": {
        "id": "rt0VrHDskFQ3"
      },
      "execution_count": null,
      "outputs": []
    },
    {
      "cell_type": "markdown",
      "source": [
        "**Now we group by with test_preparation_course**"
      ],
      "metadata": {
        "id": "NjsR-_mzpP00"
      }
    },
    {
      "cell_type": "code",
      "source": [
        "data = df.groupby(\"test_preparation_course\").agg({\"math_score\": 'mean', \"reading_score\": 'mean', \"writing_score\": 'mean'})\n",
        "\n",
        "\n",
        "data"
      ],
      "metadata": {
        "id": "yPU06swnpRdt"
      },
      "execution_count": null,
      "outputs": []
    },
    {
      "cell_type": "code",
      "source": [
        "sns.heatmap(data, annot=True)\n",
        "plt.show()"
      ],
      "metadata": {
        "id": "Bs4dtmKIqUoL"
      },
      "execution_count": null,
      "outputs": []
    }
  ]
}